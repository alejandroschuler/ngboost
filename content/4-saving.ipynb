{
 "cells": [
  {
   "cell_type": "markdown",
   "metadata": {},
   "source": [
    "# Saving Models"
   ]
  },
  {
   "cell_type": "code",
   "execution_count": 1,
   "metadata": {
    "tags": [
     "remove_cell"
    ]
   },
   "outputs": [],
   "source": [
    "import sys\n",
    "sys.path.append('/Users/c242587/Desktop/projects/git/ngboost')"
   ]
  },
  {
   "cell_type": "code",
   "execution_count": 2,
   "metadata": {
    "tags": [
     "hide_input"
    ]
   },
   "outputs": [],
   "source": [
    "from ngboost import NGBClassifier, NGBRegressor\n",
    "from ngboost.distns import k_categorical, Normal\n",
    "from ngboost.scores import LogScore\n",
    "\n",
    "from sklearn.datasets import load_breast_cancer, load_boston\n",
    "from sklearn.model_selection import train_test_split\n",
    "\n",
    "X, Y = load_boston(True)\n",
    "X_reg_train, X_reg_test, Y_reg_train, Y_reg_test = train_test_split(X, Y, test_size=0.2)\n",
    "\n",
    "X, y = load_breast_cancer(True)\n",
    "y[0:15] = 2 # artificially make this a 3-class problem instead of a 2-class problem\n",
    "X_cls_train, X_cls_test, Y_cls_train, Y_cls_test  = train_test_split(X, y, test_size=0.2)"
   ]
  },
  {
   "cell_type": "markdown",
   "metadata": {},
   "source": [
    "Saving ngboost models is easy with the `pickle` package:"
   ]
  },
  {
   "cell_type": "code",
   "execution_count": 3,
   "metadata": {},
   "outputs": [
    {
     "name": "stdout",
     "output_type": "stream",
     "text": [
      "[iter 0] loss=3.6659 val_loss=0.0000 scale=0.5000 norm=3.4867\n",
      "[iter 100] loss=3.1316 val_loss=0.0000 scale=1.0000 norm=4.0407\n",
      "[iter 200] loss=2.5093 val_loss=0.0000 scale=2.0000 norm=4.1753\n",
      "[iter 300] loss=2.0549 val_loss=0.0000 scale=2.0000 norm=3.2230\n",
      "[iter 400] loss=1.8405 val_loss=0.0000 scale=1.0000 norm=1.4379\n"
     ]
    }
   ],
   "source": [
    "ngb = NGBRegressor().fit(X_reg_train, Y_reg_train)"
   ]
  },
  {
   "cell_type": "code",
   "execution_count": 4,
   "metadata": {},
   "outputs": [],
   "source": [
    "import pickle\n",
    "with open(\"/Users/c242587/Desktop/ngbtest.p\", \"wb\") as f:\n",
    "    pickle.dump(ngb, f)"
   ]
  },
  {
   "cell_type": "code",
   "execution_count": 5,
   "metadata": {},
   "outputs": [],
   "source": [
    "with open(\"/Users/c242587/Desktop/ngbtest.p\", \"rb\") as f:\n",
    "    ngb_unpickled = pickle.load(f)"
   ]
  },
  {
   "cell_type": "code",
   "execution_count": 10,
   "metadata": {},
   "outputs": [
    {
     "data": {
      "text/plain": [
       "{'loc': array([33.56254296, 20.00248252, 16.76998823, 12.42596904, 20.24461023]),\n",
       " 'scale': array([1.71143188, 1.46911816, 1.20134737, 1.51642038, 1.18972627])}"
      ]
     },
     "execution_count": 10,
     "metadata": {},
     "output_type": "execute_result"
    }
   ],
   "source": [
    "Y_preds = ngb_unpickled.predict(X_reg_test)\n",
    "Y_dists = ngb_unpickled.pred_dist(X_reg_test)\n",
    "\n",
    "Y_dists[0:5].params"
   ]
  }
 ],
 "metadata": {
  "kernelspec": {
   "display_name": "Python 3",
   "language": "python",
   "name": "python3"
  },
  "language_info": {
   "codemirror_mode": {
    "name": "ipython",
    "version": 3
   },
   "file_extension": ".py",
   "mimetype": "text/x-python",
   "name": "python",
   "nbconvert_exporter": "python",
   "pygments_lexer": "ipython3",
   "version": "3.7.6"
  }
 },
 "nbformat": 4,
 "nbformat_minor": 4
}
